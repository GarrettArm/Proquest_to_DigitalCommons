{
 "cells": [
  {
   "cell_type": "code",
   "execution_count": 1,
   "metadata": {
    "collapsed": false,
    "deletable": true,
    "editable": true
   },
   "outputs": [],
   "source": [
    "#! /usr/bin/env python3\n",
    "\n",
    "from pymarc import MARCReader\n",
    "import os\n",
    "import csv"
   ]
  },
  {
   "cell_type": "code",
   "execution_count": 2,
   "metadata": {
    "collapsed": false,
    "deletable": true,
    "editable": true
   },
   "outputs": [],
   "source": [
    "with open('source_data/MARCDATA.MRC', 'rb') as f:\n",
    "    reader = MARCReader(f)\n",
    "    all_records = list()\n",
    "    for record in reader:\n",
    "        all_records.append(record)"
   ]
  },
  {
   "cell_type": "code",
   "execution_count": 3,
   "metadata": {
    "collapsed": false,
    "deletable": true,
    "editable": true,
    "scrolled": true
   },
   "outputs": [],
   "source": [
    "# an example of one record\n",
    "# all_records[0].as_dict()"
   ]
  },
  {
   "cell_type": "code",
   "execution_count": 4,
   "metadata": {
    "collapsed": false,
    "deletable": true,
    "editable": true
   },
   "outputs": [],
   "source": [
    "def lookup_uid(record):\n",
    "    return record.get_fields('001')[0].value().replace('AAI','')"
   ]
  },
  {
   "cell_type": "code",
   "execution_count": 5,
   "metadata": {
    "collapsed": false,
    "deletable": true,
    "editable": true
   },
   "outputs": [
    {
     "data": {
      "text/plain": [
       "'0000418'"
      ]
     },
     "execution_count": 5,
     "metadata": {},
     "output_type": "execute_result"
    }
   ],
   "source": [
    "lookup_uid(all_records[0])"
   ]
  },
  {
   "cell_type": "code",
   "execution_count": 6,
   "metadata": {
    "collapsed": false
   },
   "outputs": [
    {
     "name": "stdout",
     "output_type": "stream",
     "text": [
      "1247\n"
     ]
    }
   ],
   "source": [
    "# make a list of restricted items\n",
    "# from the previously-made ranges\n",
    "# they match 1247 records from the marc file\n",
    "\n",
    "restricted_range_a = set(range(3048322, 3335145))\n",
    "restricted_range_b = {3021429, 3030348, 3451495}\n",
    "restricted_range_c = {3049191, 3049223, 3051440, 3053695, 3053696}\n",
    "restricted_range_d = set(range(3049188, 3329096))\n",
    "all_restricteds = set().union(restricted_range_a, \n",
    "                              restricted_range_b,\n",
    "                              restricted_range_c,\n",
    "                              restricted_range_d)\n",
    "all_restricteds.remove(3136164)\n",
    "\n",
    "restricted_uids = []\n",
    "\n",
    "for record in all_records:\n",
    "    uid = lookup_uid(record)\n",
    "    if int(uid) in all_restricteds:\n",
    "        restricted_uids.append(uid)\n",
    "        continue\n",
    "        \n",
    "print(len(restricted_uids))"
   ]
  },
  {
   "cell_type": "code",
   "execution_count": 10,
   "metadata": {
    "collapsed": false
   },
   "outputs": [],
   "source": [
    "# make a list of duplicated uids\n",
    "\n",
    "with open('source_data/DuplicatedInDigitalCommons.txt', 'r', encoding='utf-8') as f:\n",
    "    duplicate_uids = []\n",
    "    for line in f.readlines():\n",
    "        duplicate_uids.append(line.replace('.pdf', '').strip())"
   ]
  },
  {
   "cell_type": "code",
   "execution_count": 21,
   "metadata": {
    "collapsed": false
   },
   "outputs": [],
   "source": [
    "# make a list of records not in duplicated or in restricted\n",
    "\n",
    "to_do_uids = [i for i in all_records if lookup_uid(i) not in restricted_uids\n",
    "                                        and lookup_uid(i) not in duplicate_uids]\n"
   ]
  },
  {
   "cell_type": "markdown",
   "metadata": {},
   "source": [
    "## Testing things"
   ]
  },
  {
   "cell_type": "code",
   "execution_count": null,
   "metadata": {
    "collapsed": false,
    "deletable": true,
    "editable": true
   },
   "outputs": [],
   "source": [
    "# test of all uids in marc file match a pdf on U drive\n",
    "# short answer: they all do\n",
    "\n",
    "# pdf_not_on_U = list()\n",
    "\n",
    "# for record in all_records:\n",
    "#     uid = lookup_uid(record)\n",
    "#     if os.path.isfile('/media/francis/U/ProquestDissertations/UnrestrictedTheses/{}.pdf'.format(uid)):\n",
    "#         continue\n",
    "#     pdf_not_on_U.append(uid)\n",
    "\n",
    "# print(pdf_not_on_U)\n"
   ]
  },
  {
   "cell_type": "code",
   "execution_count": 22,
   "metadata": {
    "collapsed": true
   },
   "outputs": [],
   "source": [
    "## Making the csv"
   ]
  },
  {
   "cell_type": "code",
   "execution_count": null,
   "metadata": {
    "collapsed": false,
    "deletable": true,
    "editable": true
   },
   "outputs": [],
   "source": [
    "def csv_writer(data, path):\n",
    "    with open(path, \"w\", newline='', encoding='utf-8') as csv_file:\n",
    "        writer = csv.writer(csv_file, delimiter=',', quotechar='\"', quoting=csv.QUOTE_ALL)\n",
    "        for line in data:\n",
    "            writer.writerow(line)"
   ]
  },
  {
   "cell_type": "code",
   "execution_count": null,
   "metadata": {
    "collapsed": false
   },
   "outputs": [],
   "source": [
    "def build_csv(all_data_parsed):\n",
    "    csv_data = []\n",
    "    # first row is all fieldnames, following rows are each uid's info\n",
    "    \n",
    "    csvfieldnames = [\"title\",\n",
    "                     \"fulltext_url\",\n",
    "                     'keywords',\n",
    "                     'abstract',\n",
    "                     \"author1_fname\",\n",
    "                     'author1_mname',\n",
    "                     'author1_lname',\n",
    "                     'author1_suffix',\n",
    "                     'author1_email',\n",
    "                     'author1_institution',\n",
    "                     'advisor1',\n",
    "                     'advisor2',\n",
    "                     'advisor3',\n",
    "                     \"advisor1_email\",\n",
    "                     'advisor1_title',\n",
    "                     \"advisor2_email\",\n",
    "                     'advisor2_title',\n",
    "                     \"advisor3_email\",\n",
    "                     'advisor3_title',\n",
    "                     'advisor4',\n",
    "                     \"advisor4_email\",\n",
    "                     'advisor4_title',\n",
    "                     'advisor5',\n",
    "                     \"advisor5_email\",\n",
    "                     'advisor5_title',\n",
    "                     'advisor6',\n",
    "                     \"advisor6_email\",\n",
    "                     'advisor6_title',\n",
    "                     'advisor7',\n",
    "                     \"advisor7_email\",\n",
    "                     'advisor7_title',\n",
    "                     'availability',\n",
    "                     'availability_description',\n",
    "                     'disciplines',\n",
    "                     'defense_date',\n",
    "                     'degree_name',\n",
    "                     'department',\n",
    "                     \"document_type\",\n",
    "                     'file_name',\n",
    "                     'file_size',\n",
    "                     'hide_author_email',\n",
    "                     'legacy_department',\n",
    "                     'publication_date',\n",
    "                     'season',\n",
    "                     'submission_date',\n",
    "                     'urn',\n",
    "                    ]\n",
    "    csv_data.append(csvfieldnames)\n",
    "\n",
    "    for urn in all_urns:\n",
    "        csv_title = combine_title(catalog_sheet, main_sheet, urn)\n",
    "        csv_urn = urn\n",
    "        fulltext_url = parse_dropbox_url(urn)\n",
    "#             fulltext_url = gdrive_dict[urn]\n",
    "        csv_first_name = main_sheet[urn].first_name\n",
    "        csv_middle_name = main_sheet[urn].middle_name\n",
    "        csv_last_name = main_sheet[urn].last_name\n",
    "        csv_suffix = main_sheet[urn].suffix\n",
    "        csv_suffix = replace_null_with_nothing(csv_suffix)\n",
    "        csv_author_email = lookup_email(urn)\n",
    "        csv_hide_author_email = lookup_hide_email(urn)\n",
    "        sorted_advisors = organize_advisors(advisors_sheet, urn)\n",
    "        csv_document_type = main_sheet[urn].dtype.lower()\n",
    "        csv_degree = expand_degree_type(main_sheet[urn].degree)\n",
    "        csv_legacy_department = main_sheet[urn].department\n",
    "        csv_department = lookup_current_dept(main_sheet[urn].department)\n",
    "        csv_disciplines = ''\n",
    "        csv_keywords = concatinate_keywords(keywords_sheet, urn)\n",
    "        csv_abstract = main_sheet[urn].abstract\n",
    "        csv_publication_date = find_pub_date(catalog_sheet, urn)\n",
    "        csv_defense_date = find_defense_date(main_sheet, urn)\n",
    "        csv_submission_date = find_submission_date(main_sheet, urn)\n",
    "        csv_availability = main_sheet[urn].availability\n",
    "        csv_availability_desc = main_sheet[urn].availability_description\n",
    "        csv_filename = find_thesis(filenames_sheet, urn).filename\n",
    "        csv_filesize = find_thesis(filenames_sheet, urn).size\n",
    "        csv_season = ''\n",
    "\n",
    "        if urn in filenames_sheet:\n",
    "            filename = filenames_sheet[urn][0].filename\n",
    "        else:\n",
    "            filename = ''\n",
    "        csv_data.append([csv_title,\n",
    "                         fulltext_url,\n",
    "                         csv_keywords,\n",
    "                         csv_abstract,\n",
    "                         csv_first_name,\n",
    "                         csv_middle_name,\n",
    "                         csv_last_name,\n",
    "                         csv_suffix,\n",
    "                         csv_author_email,\n",
    "                         'Louisiana State University and Agricultural and Mechanical College',\n",
    "                         sorted_advisors[0].advisor_name,\n",
    "                         sorted_advisors[1].advisor_name,\n",
    "                         sorted_advisors[2].advisor_name,\n",
    "                         sorted_advisors[0].advisor_email,\n",
    "                         sorted_advisors[0].advisor_title,\n",
    "                         sorted_advisors[1].advisor_email,\n",
    "                         sorted_advisors[1].advisor_title,\n",
    "                         sorted_advisors[2].advisor_email,\n",
    "                         sorted_advisors[2].advisor_title,\n",
    "                         sorted_advisors[3].advisor_name,\n",
    "                         sorted_advisors[3].advisor_email,\n",
    "                         sorted_advisors[3].advisor_title,\n",
    "                         sorted_advisors[4].advisor_name,\n",
    "                         sorted_advisors[4].advisor_email,\n",
    "                         sorted_advisors[4].advisor_title,\n",
    "                         sorted_advisors[5].advisor_name,\n",
    "                         sorted_advisors[5].advisor_email,\n",
    "                         sorted_advisors[5].advisor_title,\n",
    "                         sorted_advisors[6].advisor_name,\n",
    "                         sorted_advisors[6].advisor_email,\n",
    "                         sorted_advisors[6].advisor_title,\n",
    "                         csv_availability,\n",
    "                         csv_availability_desc,\n",
    "                         csv_disciplines,\n",
    "                         csv_defense_date,\n",
    "                         csv_degree, \n",
    "                         csv_department,\n",
    "                         csv_document_type,\n",
    "                         csv_filename,\n",
    "                         csv_filesize,\n",
    "                         csv_hide_author_email,\n",
    "                         csv_legacy_department,\n",
    "                         csv_publication_date,\n",
    "                         csv_season,\n",
    "                         csv_submission_date,\n",
    "                         urn,\n",
    "                         ])\n",
    "#     print(csv_data)\n",
    "    csv_writer(csv_data, 'output/scrap_Proquest.csv')"
   ]
  },
  {
   "cell_type": "code",
   "execution_count": null,
   "metadata": {
    "collapsed": true
   },
   "outputs": [],
   "source": []
  }
 ],
 "metadata": {
  "kernelspec": {
   "display_name": "Python 3",
   "language": "python",
   "name": "python3"
  },
  "language_info": {
   "codemirror_mode": {
    "name": "ipython",
    "version": 3
   },
   "file_extension": ".py",
   "mimetype": "text/x-python",
   "name": "python",
   "nbconvert_exporter": "python",
   "pygments_lexer": "ipython3",
   "version": "3.5.2"
  }
 },
 "nbformat": 4,
 "nbformat_minor": 2
}
