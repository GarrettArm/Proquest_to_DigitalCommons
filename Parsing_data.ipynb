{
 "cells": [
  {
   "cell_type": "code",
   "execution_count": null,
   "metadata": {
    "collapsed": false,
    "deletable": true,
    "editable": true
   },
   "outputs": [],
   "source": [
    "#! /usr/bin/env python3\n",
    "\n",
    "import os\n",
    "import csv\n",
    "\n",
    "from nameparser import HumanName\n",
    "from pymarc import MARCReader\n",
    "from titlecase import titlecase"
   ]
  },
  {
   "cell_type": "code",
   "execution_count": null,
   "metadata": {
    "collapsed": false,
    "deletable": true,
    "editable": true
   },
   "outputs": [],
   "source": [
    "def lookup_uid(record):\n",
    "    return record.get_fields('001')[0].value().replace('AAI','')"
   ]
  },
  {
   "cell_type": "code",
   "execution_count": null,
   "metadata": {
    "collapsed": false,
    "deletable": true,
    "editable": true
   },
   "outputs": [],
   "source": [
    "folder_on_U = '/media/francis/U/ProquestDissertations/Theses and Dissertations/ProquestDissertations/'\n",
    "\n",
    "with open(os.path.join(folder_on_U, 'UnrestrictedTheses', 'MARCDATA.MRC'), 'rb') as f:\n",
    "    reader = MARCReader(f)\n",
    "    marc_unrestricted_records = list()\n",
    "    for record in reader:\n",
    "        marc_unrestricted_records.append(record)"
   ]
  },
  {
   "cell_type": "code",
   "execution_count": null,
   "metadata": {
    "collapsed": true,
    "deletable": true,
    "editable": true
   },
   "outputs": [],
   "source": [
    "with open(os.path.join(folder_on_U, 'RestrictedTheses', 'MARCDATA.MRC'), 'rb') as f:\n",
    "    reader = MARCReader(f)\n",
    "    marc_restricted_records = list()\n",
    "    for record in reader:\n",
    "        marc_restricted_records.append(record)"
   ]
  },
  {
   "cell_type": "code",
   "execution_count": null,
   "metadata": {
    "collapsed": false,
    "deletable": true,
    "editable": true
   },
   "outputs": [],
   "source": [
    "marc_all_records = {i for i in marc_restricted_records}.union({i for i in marc_unrestricted_records})\n",
    "\n",
    "marc_unrestricted_uids = {lookup_uid(i) for i in marc_unrestricted_records}\n",
    "marc_restricted_uids = {lookup_uid(i) for i in marc_restricted_records}\n",
    "marc_all_uids = {lookup_uid(record) for record in marc_all_records}\n"
   ]
  },
  {
   "cell_type": "code",
   "execution_count": null,
   "metadata": {
    "collapsed": false,
    "deletable": true,
    "editable": true
   },
   "outputs": [],
   "source": [
    "folder_restricted = {file.replace('.pdf', '') \n",
    "                    for file in os.listdir(\n",
    "                        os.path.join(folder_on_U, 'RestrictedTheses'))\n",
    "                    if file.replace('.pdf', '').isnumeric()}\n",
    "folder_unrestricted = {file.replace('.pdf', '') \n",
    "                    for file in os.listdir(\n",
    "                        os.path.join(folder_on_U, 'UnrestrictedTheses'))\n",
    "                    if file.replace('.pdf', '').isnumeric()}\n",
    "folder_duplicated = {file.replace('.pdf', '') \n",
    "                    for file in os.listdir(\n",
    "                        os.path.join(folder_on_U, 'ETDDuplicates'))\n",
    "                    if file.replace('.pdf', '').isnumeric()}\n",
    "folder_all = folder_restricted.union(folder_unrestricted).union(folder_duplicated)"
   ]
  },
  {
   "cell_type": "code",
   "execution_count": null,
   "metadata": {
    "collapsed": false,
    "deletable": true,
    "editable": true
   },
   "outputs": [],
   "source": [
    "print('expected:', 'pass', len(marc_unrestricted_uids), 'pass', len(marc_restricted_uids))\n",
    "print('observed:', len(folder_all), len(folder_unrestricted), len(folder_duplicated), len(folder_restricted))"
   ]
  },
  {
   "cell_type": "markdown",
   "metadata": {
    "deletable": true,
    "editable": true
   },
   "source": [
    "## Making the crosswalk"
   ]
  },
  {
   "cell_type": "code",
   "execution_count": null,
   "metadata": {
    "collapsed": false,
    "deletable": true,
    "editable": true
   },
   "outputs": [],
   "source": [
    "def lookup_clean_title(record):\n",
    "    text = record.get_fields('245')[0].value()\n",
    "    text = titlecase(text)\n",
    "    text = text.replace(':  ', \": \")\n",
    "    for k, v in wrong_roman_numeral.items():\n",
    "        if k in text:\n",
    "            text = text.replace(k, v)\n",
    "    return text"
   ]
  },
  {
   "cell_type": "code",
   "execution_count": null,
   "metadata": {
    "collapsed": false,
    "deletable": true,
    "editable": true
   },
   "outputs": [],
   "source": [
    "wrong_roman_numeral = {' Ii': ' II',\n",
    "                       ' Iii ': ' III ',\n",
    "                       '-Iii': '-III',\n",
    "                       ' Iii.': ' III.',\n",
    "                       ' Iv ': ' IV ',\n",
    "                       ' Vi ': ' VI ',\n",
    "                       ' Iv.': ' IV.',\n",
    "                       ' Iv)': 'IV)',\n",
    "                       ' Viii': ' VIII',\n",
    "                       '-Vii ': '-VII',\n",
    "                       '-Viii': '-VIII',\n",
    "                       ' Vii': ' VII',\n",
    "                       }"
   ]
  },
  {
   "cell_type": "code",
   "execution_count": null,
   "metadata": {
    "collapsed": true,
    "deletable": true,
    "editable": true
   },
   "outputs": [],
   "source": [
    "def make_dropbox_url(record):\n",
    "    uid = lookup_uid(record)\n",
    "    url = 'https://dl.dropboxusercontent.com/u/302551934/Proquests/{}.pdf'.format(uid)\n",
    "    return url"
   ]
  },
  {
   "cell_type": "code",
   "execution_count": null,
   "metadata": {
    "collapsed": false,
    "deletable": true,
    "editable": true
   },
   "outputs": [],
   "source": [
    "abbr_degree = {\"MPT\": \"Master of Physical Therapy (MPT)\",\n",
    "    \"MUP\": \"Master of Urban Planning (MUP)\",\n",
    "    \"DM\": \"Doctor of Music (DM)\",\n",
    "    \"MTS\": \"Master of Theological Studies (MTS)\",\n",
    "    \"AuD\": \"Doctor of Audiology (AuD)\",\n",
    "    \"MSEE\": \"Master of Science in Electrical Engineering (MSEE)\",\n",
    "    \"MSIB\": \"Master of Science in International Business (MSIB)\",\n",
    "    \"MCSM\": \"Master of Construction Science and Management (MCSM)\",\n",
    "    \"PsyD\": \"Doctor of Psychology (PsyD)\",\n",
    "    \"MSEM\": \"Master of Science in Engineering Management (MSEM)\",\n",
    "    \"MSMSE\": \"Master of Science in Materials Science and Engineering (MSMSE)\",\n",
    "    \"RhD\": \"Doctor of Rehabilitation (RhD)\",\n",
    "    \"MATE\": \"Master of Arts in the Teaching of English (MATE)\",\n",
    "    \"DPT\": \"Doctor of Physical Therapy (DPT)\",\n",
    "    \"MSAgE\": \"Master of Science in Agricultural Engineering (MSAgE)\",\n",
    "    \"PhDOtol\": \"PhD Otolaryngology (PhDOtol)\",\n",
    "    \"MSHRM\": \"Master of Science in Human Resources Management (MSHRM)\",\n",
    "    \"MIM\": \"Master of International Management (MIM)\",\n",
    "    \"DMin\": \"Doctor of Ministry (DMin)\",\n",
    "    \"MSIE\": \"Master of Science in Industrial Engineering (MSIE)\",\n",
    "    \"MSISE\": \"Master of Science in Infrastructure Systems Engineering (MSISE)\",\n",
    "    \"DPA\": \"Doctor of Public Administration (DPA)\",\n",
    "    \"HSOP\": \"Doctor of Philosophy in Health Services Research (HSOP)\",\n",
    "    \"MMatSE\": \"Master of Materials Science and Engineering (MMatSE)\",\n",
    "    \"MAeroE\": \"Master of Aeronautical Engineering (MAeroE)\",\n",
    "    \"MMT\": \"Master in Management of Technology (MMT)\",\n",
    "    \"MSJ\": \"Master of Science in Jurisprudence (MSJ)\",\n",
    "    \"MHP\": \"Master of Historic Preservation (MHP)\",\n",
    "    \"DEng\": \"Doctor of Engineering (DEng)\",\n",
    "    \"MBA\": \"Master of Business Administration (MBA)\",\n",
    "    \"MRED\": \"Master of Real Estate Development (MRED)\",\n",
    "    \"MCTE\": \"Master of Career and Technology Education (MCTE)\",\n",
    "    \"MSAeroE\": \"Master of Science in Aerospace Engineering (MSAeroE)\",\n",
    "    \"MAR\": \"Master of Arts in Religion (MAR)\",\n",
    "    \"MST\": \"Master's of Science in Teaching (MST)\",\n",
    "    \"MJS\": \"Master of Judicial Studies (MJS)\",\n",
    "    \"MALA\": \"Master of Arts in Liberal Arts (MALA)\",\n",
    "    \"MSETM\": \"Master of Science in Environmental Technology Management (MSETM)\",\n",
    "    \"MSHTM\": \"Master of Science in Hospitality and Tourism Management (MSHTM)\",\n",
    "    \"Th.M\": \"Master of Theology (Th.M)\",\n",
    "    \"MSM\": \"Master of Science in Management (MSM)\",\n",
    "    \"MCRP\": \"Master of City and Regional Planning (MCRP)\",\n",
    "    \"MBS\": \"Master of Building Science (MBS)\",\n",
    "    \"MAIS\": \"Master of Arts in Interdisciplinary Studies (MAIS)\",\n",
    "    \"DBA\": \"Doctor of Business Administration (DBA)\",\n",
    "    \"MPH\": \"Master of Public Health (MPH)\",\n",
    "    \"MIDS\": \"Master of Interdisciplinary Studies (MIDS)\",\n",
    "    \"MPA/JD\": \"Master of Public Administration/Juris Doctorate (MPA/JD)\",\n",
    "    \"PhD\": \"Doctor of Philosophy (PhD)\",\n",
    "    \"DMgt\": \"Doctor of Management (DMgt)\",\n",
    "    \"MCIS\": \"Master of Computer and Information Science (MCIS)\",\n",
    "    \"MAE\": \"Master of Arts in Education (MAE)\",\n",
    "    \"MHD\": \"Master of Human Development (MHD)\",\n",
    "    \"MM\": \"Master of Music (MM)\",\n",
    "    \"MGS\": \"Master of General Studies (MGS)\",\n",
    "    \"MSN\": \"Master of Science in Nursing (MSN)\",\n",
    "    \"M.Div\": \"Master of Divinity (M.Div)\",\n",
    "    \"MAC\": \"Master of Arts in Counseling (MAC)\",\n",
    "    \"MCJ\": \"Master of Criminal Justice (MCJ)\",\n",
    "    \"MFR\": \"Master of Forest Resources (MFR)\",\n",
    "    \"MSSS\": \"Master of Science in Computer Science (MSCS)\",\n",
    "    \"MSA\": \"Master of Science in Administration (MSA)\",\n",
    "    \"MURP\": \"Master of Urban and Regional Planning (MURP)\",\n",
    "    \"MAS\": \"Master in Advanced Studies (MAS)\",\n",
    "    \"ND\": \"Doctor of Nursing (ND)\",\n",
    "    \"ME\": \"Master of Engineering (ME)\",\n",
    "    \"MSCRP\": \"Master of Science in Community and Regional Planning (MSCRP)\",\n",
    "    \"MArch\": \"Master of Architecture (MArch)\",\n",
    "    \"MLIS\": \"Master of Library and Information Science (MLIS)\",\n",
    "    \"MSOtol\": \"MS Otolaryngology (MSOtol)\",\n",
    "    \"MLS\": \"Master of Library Science/Master of Life Sciences (MLS)\",\n",
    "    \"MSMANFE\": \"Master of Science in Manufacturing Engineering (MSMANFE)\",\n",
    "    \"MSSE\": \"Master of Science and Software Engineering (MSSE)\",\n",
    "    \"MEngr\": \"Master of Engineering (MEngr)\",\n",
    "    \"MSB\": \"Masters of Science in Bioscience (MSB)\",\n",
    "    \"PED\": \"Doctor of Physical Education (PED)\",\n",
    "    \"MFA\": \"Master of Fine Arts (MFA)\",\n",
    "    \"MMC\": \"Master of Mass Communication (MMC)\",\n",
    "    \"MSBAE\": \"Master of Science in Biological and Agricultural Engineering (MSBAE)\",\n",
    "    \"MAgEd\": \"Master of Agricultural Education (MAgEd)\",\n",
    "    \"MSECE\": \"Master of Science in Electrical and Computer Engineering (MSECE)\",\n",
    "    \"DMD\": \"Doctor of Dental Medicine (DMD)\",\n",
    "    \"MSMatSE\": \"Master of Science in Material Science Engineering (MSMatSE)\",\n",
    "    \"MAPC\": \"Master of Arts in Pastoral Counseling (MAPC)\",\n",
    "    \"MSEd\": \"Master of Science in Education (MSEd)\",\n",
    "    \"DPDS\": \"Doctor of Planning and Development Studies (DPDS)\",\n",
    "    \"MRP\": \"Master of Regional Planning (MRP)\",\n",
    "    \"MNS\": \"Master of Natural Sciences (MNS)\",\n",
    "    \"EdD\": \"Doctor of Education (EdD)\",\n",
    "    \"DrPH\": \"Doctor of Public Health (DrPH)\",\n",
    "    \"DNS\": \"Doctor of Nursing Science (DNS)\",\n",
    "    \"MSIEOR\": \"Master of Science in Industrial Engineering and Operations Research (MSIEOR)\",\n",
    "    \"MAT\": \"Master of Arts in Teaching (MAT)\",\n",
    "    \"MEE\": \"Master of Electrical Engineering (MEE)\",\n",
    "    \"MS\": \"Master of Science (MS)\",\n",
    "    \"MSECO\": \"Master of Science in Economics (MSECO)\",\n",
    "    \"MLA\": \"Master of Landscape Architecture (MLA)\",\n",
    "    \"PhDSurg\": \"PhD Surgergy (PhDSurg)\",\n",
    "    \"MSES\": \"Master of Science in Engineering Science (MSES)\",\n",
    "    \"MHI\": \"Masters of Health Informatics (MHI)\",\n",
    "    \"MSME\": \"Master of Science in Mechanical Engineering (MSME)\",\n",
    "    \"MMUS\": \"Master of Music (MMUS)\",\n",
    "    \"MSW\": \"Master of Social Work (MSW)\",\n",
    "    \"MME\": \"Master of Music Education (MME)\",\n",
    "    \"DMA\": \"Doctor of Musical Arts (DMA)\",\n",
    "    \"MPA\": \"Master of Public Administration (MPA)\",\n",
    "    \"DA\": \"Doctor of Arts (DA)\",\n",
    "    \"MApStat\": \"Master of Applied Statistics (MApStat)\",\n",
    "    \"MSP\": \"Master of Science in Planning (MSP)\",\n",
    "    \"MPP\": \"Master of Public Policy (MPP)\",\n",
    "    \"MSExpSurg\": \"Medical Surgeon in Experimental Surgery (MSExpSurg)\",\n",
    "    \"EdS\": \"Education Specialist (EdS)\",\n",
    "    \"MF\": \"Master of Forestry (MF)\",\n",
    "    \"MPlan\": \"Master of Planning (MPlan)\",\n",
    "    \"MBT\": \"Master of Business Taxation (MBT)\",\n",
    "    \"HSD\": \"Doctor of Health and Safety (HSD)\",\n",
    "    \"MHRD\": \"Master of Human Resource Development (MHRD)\",\n",
    "    \"MSPH\": \"Master of Science in Public Health (MSPH)\",\n",
    "    \"MChE\": \"Master of Chemical Engineering (MChE)\",\n",
    "    \"MSPE\": \"Master of Science in Petroleum Engineering (MSPE)\",\n",
    "    \"MCompE\": \"Master of Computer Engineering (MCompE)\",\n",
    "    \"MT\": \"Master in Taxation (MT)\",\n",
    "    \"MAcc\": \"Master of Accounting (MAcc)\",\n",
    "    \"MPM\": \"Master of Public Management (MPM)\",\n",
    "    \"MSE\": \"Master of Science in Engineering (MSE)\",\n",
    "    \"DME\": \"Doctor of Music Education (DME)\",\n",
    "    \"DSW\": \"Doctor of Social Work (DSW)\",\n",
    "    \"MSCE\": \"Master of Science in Civil Engineering (MSCE)\",\n",
    "    \"DVM\": \"Doctor of Veterinary Medicine (DVM)\",\n",
    "    \"MCE\": \"Master of Civil Engineering (MCE)\",\n",
    "    \"MES\": \"Master of Environmental Studies (MES)\",\n",
    "    \"MECom\": \"Master of Electronic Commerce (MECom)\",\n",
    "    \"MHA\": \"Master of Health Administration (MHA)\",\n",
    "    \"PharmD\": \"Doctor of Pharmacy (PharmD)\",\n",
    "    \"MA\": \"Master of Arts (MA)\",\n",
    "    \"Ded\": \"Doctor of Education (Ded)\",\n",
    "    \"MEnvE\": \"Master of Environmental Engineering (MEnvE)\",\n",
    "    \"ReD\": \"Doctor of Recreation (ReD)\",\n",
    "    \"JD\": \"Juris Doctorate (JD)\",\n",
    "    \"MSBiosyAgE\": \"Master of Science in Biosystems and Agricultural Engineering (MSBiosyAgE)\",\n",
    "    \"PMBA\": \"Professional Master of Business Administration (PMBA)\",\n",
    "    \"MHAMS\": \"Master of Historical Administration and Museum Studies (MHAMS)\",\n",
    "    \"MSIS\": \"Master of Science in Interdisciplinary Studies (MSIS)\",\n",
    "    \"IMES\": \"International Master of Environmental Sciences (IMES)\",\n",
    "    \"MSChE\": \"Master of Science in Chemical Engineering (MSChE)\",\n",
    "    \"MPAcc\": \"Master of Professional Accounting (MPAcc)\",\n",
    "    \"MGIS\": \"Master of Geographic Information Science (MGIS)\",\n",
    "    \"MBioSci\": \"Master of Biological Science (MBioSci)\",\n",
    "    \"MCM\": \"Master of Construction Management (MCM)\",\n",
    "    \"MSMS\": \"Master of Science in Medical Sciences (MSMS)\",\n",
    "    \"MD\": \"Medical Doctor (MD)\",\n",
    "    \"Medical Science\": \"Doctor of Philosophy (Medical Science)\",\n",
    "    \"MGeoE\": \"Master of Geomechanics Engineering (MGeoE)\",\n",
    "    \"MEd\": \"Master of Education (MEd)\",\n",
    "    \"MAM\": \"Master in Agricultural Management (MAM)\",\n",
    "    \"MPRTM\": \"Master of Parks, Recreation and Tourism Management (MPRTM)\",\n",
    "    \"MAgr\": \"Master of Agriculture (MAgr)\",\n",
    "    \"POCS\": \"Doctor of Oceanography & Coastal Sciences (POCS)\",\n",
    "    \"PVMPB\": \"Doctor of Biomedical and Veterinary Medical Sciences-Pathobiological Sciences (PVMPB)\",\n",
    "    \"PNFS\": \"Doctor of Nutrition and Food Sciences (PNFS)\",\n",
    "    \"PENTM\": \"Doctor of Entomology (PENTM)\",\n",
    "    }\n",
    "\n",
    "\n",
    "\n",
    "# non_matching_degree_abbrevs = dict()\n",
    "# def expand_degree_type(degree_name):\n",
    "#     if degree_name in abbr_degree:\n",
    "#         return abbr_degree[degree_name]\n",
    "#     else:\n",
    "#         if degree_name not in non_matching_degree_abbrevs:\n",
    "#             non_matching_degree_abbrevs[degree_name] = []\n",
    "            \n",
    "# for record in ori:\n",
    "#     stated_degree = record.get_fields('791')[0].value()\n",
    "#     stated_degree = stated_degree.replace('.', '')\n",
    "#     if stated_degree in first_conversion:\n",
    "#         stated_degree = first_conversion[stated_degree]\n",
    "#     if stated_degree not in abbr_degree:\n",
    "#         print(lookup_uid(record))\n",
    "# #         print(stated_degree, record.get_fields('856')[0].value())"
   ]
  },
  {
   "cell_type": "code",
   "execution_count": null,
   "metadata": {
    "collapsed": false,
    "deletable": true,
    "editable": true
   },
   "outputs": [],
   "source": [
    "first_conversion = {'EducatD': 'EdD',\n",
    "                    'DED': 'EdD',\n",
    "                    'DMus': 'DMA',\n",
    "                    'OCS': 'POCS',\n",
    "                    'VetMedSc': 'PVMPB',\n",
    "                    'DrSciEng': 'PNFS',\n",
    "                    'SCDC': 'PENTM'}\n",
    "\n",
    "def match_degrees(record):\n",
    "    stated_degree = record.get_fields('791')[0].value()\n",
    "    if not stated_degree:\n",
    "        return ''\n",
    "    alph_degree = stated_degree.replace('.','')\n",
    "    if alph_degree in first_conversion:\n",
    "        alph_degree = first_conversion[alph_degree]\n",
    "    if alph_degree in abbr_degree:\n",
    "        return abbr_degree[alph_degree]\n",
    "    else:\n",
    "        return 'not yet implemented'\n"
   ]
  },
  {
   "cell_type": "code",
   "execution_count": null,
   "metadata": {
    "collapsed": true,
    "deletable": true,
    "editable": true
   },
   "outputs": [],
   "source": [
    "def interpret_directors(record):\n",
    "    text_a, text_b = parse_500(record)\n",
    "    return split_directors(text_b)\n",
    "\n",
    "def parse_500(record):\n",
    "    value_500 = [i.value() for i in record.get_fields('500')]\n",
    "    if len(value_500) == 1:\n",
    "        return value_500[0], ''\n",
    "    else:\n",
    "        return value_500[0], value_500[1]  \n",
    "\n",
    "def split_directors(text_b):\n",
    "    directors_list = parse_advisors_field(text_b)\n",
    "    if directors_list:\n",
    "        if len(directors_list) == 3:\n",
    "            return directors_list[0], directors_list[1], directors_list[2]\n",
    "        elif len(directors_list) == 2:\n",
    "            return directors_list[0], directors_list[1], ''\n",
    "        elif len(directors_list) == 1:\n",
    "            return directors_list[0], '', ''\n",
    "    return ('', '', '')\n",
    "\n",
    "def parse_advisors_field(text):\n",
    "    for title in ('Directors: ',\n",
    "                  'Director: ',\n",
    "                  'Co-Chairs: ',\n",
    "                  'Co-chairs: ',\n",
    "                  'Co-Chairmen: ',\n",
    "                  'Adviser: ',\n",
    "                  'Advisers: ',\n",
    "                  'Chair: ',\n",
    "                  'Directed: '):\n",
    "        if title in text:\n",
    "            text = text.replace(title, '')\n",
    "            text = text\n",
    "            text = unperiod(text)\n",
    "            if text:\n",
    "                return [i.strip() for i in text.split('; ')]\n",
    "    else:\n",
    "        return ''\n",
    "\n",
    "def unperiod(text):\n",
    "    if text[-1] == '.':\n",
    "        return text[:-1]\n",
    "    return text"
   ]
  },
  {
   "cell_type": "code",
   "execution_count": null,
   "metadata": {
    "collapsed": false,
    "deletable": true,
    "editable": true
   },
   "outputs": [],
   "source": [
    "def find_source(record):\n",
    "    fields = [i.value() for i in record.get_fields('500') if 'Source' in i.value()][0]\n",
    "    fields = unperiod(fields)\n",
    "    fields = fields.replace('Source: ', '')\n",
    "    return fields"
   ]
  },
  {
   "cell_type": "code",
   "execution_count": null,
   "metadata": {
    "collapsed": false,
    "deletable": true,
    "editable": true
   },
   "outputs": [],
   "source": [
    "def combine_520(record):\n",
    "    list_520 = [i for i in record.get_fields('520')]\n",
    "    if list_520:\n",
    "        combined_text = ' '.join([i.value() for i in list_520])\n",
    "    else:\n",
    "        combined_text = ''\n",
    "    return combined_text"
   ]
  },
  {
   "cell_type": "code",
   "execution_count": null,
   "metadata": {
    "collapsed": false,
    "deletable": true,
    "editable": true
   },
   "outputs": [],
   "source": [
    "def combine_650(record):\n",
    "    value_650 = [i.value() for i in record.get_fields('650')]\n",
    "    value_650 = [i.capitalize().replace('.', '') for i in value_650]\n",
    "    if value_650:\n",
    "        combined_text = '; '.join(value_650)\n",
    "    else:\n",
    "        combined_text = ''\n",
    "    return combined_text"
   ]
  },
  {
   "cell_type": "code",
   "execution_count": null,
   "metadata": {
    "collapsed": false,
    "deletable": true,
    "editable": true
   },
   "outputs": [],
   "source": [
    "def parse_author_names(record):\n",
    "    name_clump = record.get_fields('100')[0].value()\n",
    "    name_clump = unperiod(name_clump)\n",
    "    name = HumanName(name_clump)\n",
    "    last_name = name.last\n",
    "    middle_name = name.middle\n",
    "    suffix = name.suffix\n",
    "    suffix = standardize_suffix(suffix)\n",
    "    if name.nickname:\n",
    "        first_name = \"{} {}\".format(name.first, name.nickname)\n",
    "    else:\n",
    "        first_name = name.first\n",
    "    return first_name.capitalize(), middle_name.capitalize(), last_name.capitalize(), suffix\n",
    "\n",
    "def standardize_suffix(text):\n",
    "    replace_dict = {'JR': 'Jr', 'SR': 'Sr', '3RD': 'III', 'ED': 'Ed.'}\n",
    "    for wrong in replace_dict:\n",
    "        if wrong in text:\n",
    "            text = text.replace(wrong, replace_dict[wrong])\n",
    "    return text"
   ]
  },
  {
   "cell_type": "code",
   "execution_count": null,
   "metadata": {
    "collapsed": true,
    "deletable": true,
    "editable": true
   },
   "outputs": [],
   "source": [
    "def lookup_inst(record):\n",
    "    text = record.get_fields('710')[0].value()\n",
    "    text = unperiod(text)\n",
    "    return text"
   ]
  },
  {
   "cell_type": "code",
   "execution_count": null,
   "metadata": {
    "collapsed": true,
    "deletable": true,
    "editable": true
   },
   "outputs": [],
   "source": [
    "def lookup_isbn(record):\n",
    "    if record.get_fields('020'):\n",
    "        return record.get_fields('020')[0].value()\n",
    "    return ''"
   ]
  },
  {
   "cell_type": "code",
   "execution_count": null,
   "metadata": {
    "collapsed": true
   },
   "outputs": [],
   "source": [
    "def determine_dtype(record):\n",
    "    for degree in ('PhD', 'DMA', 'EdD', 'DBA', 'PENTM', 'PNFS', 'PVMPB', 'POCS' ):\n",
    "        if degree in match_degrees(record):\n",
    "            return \"dissertation\"\n",
    "    \n",
    "    return \"thesis\""
   ]
  },
  {
   "cell_type": "markdown",
   "metadata": {
    "deletable": true,
    "editable": true
   },
   "source": [
    "## Making the csv"
   ]
  },
  {
   "cell_type": "code",
   "execution_count": null,
   "metadata": {
    "collapsed": false,
    "deletable": true,
    "editable": true
   },
   "outputs": [],
   "source": [
    "def csv_writer(data, path):\n",
    "    with open(path, \"w\", newline='', encoding='utf-8') as csv_file:\n",
    "        writer = csv.writer(csv_file, delimiter=',', quotechar='\"', quoting=csv.QUOTE_ALL)\n",
    "        for line in data:\n",
    "            writer.writerow(line)"
   ]
  },
  {
   "cell_type": "code",
   "execution_count": null,
   "metadata": {
    "collapsed": false,
    "deletable": true,
    "editable": true
   },
   "outputs": [],
   "source": [
    "def build_csv(records_list):\n",
    "    csv_data = []\n",
    "    \n",
    "    csvfieldnames = ['uid',\n",
    "                     \"title\",\n",
    "                     \"fulltext_url\",\n",
    "                     'keywords',\n",
    "                     'abstract',\n",
    "                     \"author1_fname\",\n",
    "                     'author1_mname',\n",
    "                     'author1_lname',\n",
    "                     'author1_suffix',\n",
    "                     'author1_email',\n",
    "                     'author1_institution',\n",
    "                     'advisor1',\n",
    "                     'advisor2',\n",
    "                     'advisor3',\n",
    "                     'disciplines',\n",
    "                     'comments',\n",
    "                     'degree_name',\n",
    "                     'department',\n",
    "                     \"document_type\",\n",
    "                     'publication_date',\n",
    "                     'season',\n",
    "                     'release_date',\n",
    "                     'ISBN',\n",
    "                     'pagelength',\n",
    "                     'source',\n",
    "                     'diss_note',\n",
    "                     'host_item',\n",
    "                     'language',\n",
    "                     'host_url',\n",
    "                    ]\n",
    "    csv_data.append(csvfieldnames)\n",
    "\n",
    "    for record in records_list:\n",
    "        csv_uid = lookup_uid(record)\n",
    "        csv_title = lookup_clean_title(record)\n",
    "        fulltext_url = make_dropbox_url(record)\n",
    "        csv_keywords = combine_650(record)\n",
    "        csv_abstract = combine_520(record)\n",
    "        csv_first_name, csv_middle_name, csv_last_name, csv_suffix = parse_author_names(record)\n",
    "        csv_author_email = ''\n",
    "        csv_institution = lookup_inst(record)\n",
    "        csv_advisor1, csv_advisor2, cvs_advisor3 = interpret_directors(record)\n",
    "        csv_advisor3 = ''\n",
    "        csv_disciplines = ''\n",
    "        csv_comments = ''\n",
    "        csv_degree_name = match_degrees(record)\n",
    "        csv_department = ''\n",
    "        csv_document_type = determine_dtype(record)\n",
    "        csv_publication_date = record.get_fields('792')[0].value()\n",
    "        csv_season = ''\n",
    "        csv_release_date = ''\n",
    "        csv_isbn = lookup_isbn(record)\n",
    "        csv_pagelength = record.get_fields('300')[0].value().replace(' p.', '')\n",
    "        csv_source = find_source(record)\n",
    "        csv_diss_note = unperiod(record.get_fields('502')[0].value())\n",
    "        csv_host_item = unperiod(record.get_fields('773')[0].value())\n",
    "        csv_language = record.get_fields('793')[0].value()\n",
    "        csv_host_url = record.get_fields('856')[0].value()\n",
    "\n",
    "        csv_data.append([csv_uid,\n",
    "                         csv_title,\n",
    "                         fulltext_url,\n",
    "                         csv_keywords,\n",
    "                         csv_abstract,\n",
    "                         csv_first_name,\n",
    "                         csv_middle_name,\n",
    "                         csv_last_name,\n",
    "                         csv_suffix,\n",
    "                         csv_author_email,\n",
    "                         csv_institution,\n",
    "                         csv_advisor1,\n",
    "                         csv_advisor2,\n",
    "                         csv_advisor3,\n",
    "                         csv_disciplines,\n",
    "                         csv_comments,\n",
    "                         csv_degree_name,\n",
    "                         csv_department,\n",
    "                         csv_document_type,\n",
    "                         csv_publication_date,\n",
    "                         csv_season,\n",
    "                         csv_release_date,\n",
    "                         csv_isbn,\n",
    "                         csv_pagelength,\n",
    "                         csv_source,\n",
    "                         csv_diss_note,\n",
    "                         csv_host_item,\n",
    "                         csv_language,\n",
    "                         csv_host_url,\n",
    "                         ])\n",
    "    output_folder = '/home/francis/Desktop/lsu-git/Proquest_to_DigitalCommons/output'\n",
    "    os.makedirs(output_folder, exist_ok=True)\n",
    "    csv_writer(csv_data, '/home/francis/Desktop/lsu-git/Proquest_to_DigitalCommons/output/scrap_Proquest.csv')"
   ]
  },
  {
   "cell_type": "code",
   "execution_count": null,
   "metadata": {
    "collapsed": false,
    "deletable": true,
    "editable": true
   },
   "outputs": [],
   "source": [
    "build_csv(marc_unrestricted_records)"
   ]
  },
  {
   "cell_type": "markdown",
   "metadata": {
    "deletable": true,
    "editable": true
   },
   "source": [
    "## Testing things"
   ]
  },
  {
   "cell_type": "code",
   "execution_count": null,
   "metadata": {
    "collapsed": false,
    "deletable": true,
    "editable": true,
    "scrolled": false
   },
   "outputs": [],
   "source": [
    "# an example of one record\n",
    "# orig_unrestricted_records[1000].as_dict()"
   ]
  },
  {
   "cell_type": "code",
   "execution_count": null,
   "metadata": {
    "collapsed": false,
    "deletable": true,
    "editable": true
   },
   "outputs": [],
   "source": [
    "# show all unique values for field 650\n",
    "\n",
    "# all_650a = set()\n",
    "# for record in to_do_records:\n",
    "#     for i in record.get_fields('650'):\n",
    "#         all_650a.add(i.value())\n",
    "#     all_650a.add(record.get_fields('650')[0].value())\n",
    "# print(all_650a)"
   ]
  },
  {
   "cell_type": "code",
   "execution_count": null,
   "metadata": {
    "collapsed": false,
    "deletable": true,
    "editable": true
   },
   "outputs": [],
   "source": [
    "# do any field values have an @ in it?\n",
    "\n",
    "# for record in to_do_records:\n",
    "#     all_fields = [i.value() for i in record.get_fields()]\n",
    "#     for text in all_fields:\n",
    "#         if '@' in text:\n",
    "#             print(text)"
   ]
  },
  {
   "cell_type": "code",
   "execution_count": null,
   "metadata": {
    "collapsed": false,
    "deletable": true,
    "editable": true
   },
   "outputs": [],
   "source": [
    "# test of all uids in marc file match a pdf on U drive\n",
    "# short answer: they all do\n",
    "\n",
    "# pdf_not_on_U = list()\n",
    "\n",
    "# for record in orig_unrestricted_records:\n",
    "#     uid = lookup_uid(record)\n",
    "#     if os.path.isfile('/media/francis/U/ProquestDissertations/UnrestrictedTheses/{}.pdf'.format(uid)):\n",
    "#         continue\n",
    "#     pdf_not_on_U.append(uid)\n",
    "\n",
    "# print(pdf_not_on_U)\n"
   ]
  },
  {
   "cell_type": "code",
   "execution_count": null,
   "metadata": {
    "collapsed": false,
    "deletable": true,
    "editable": true
   },
   "outputs": [],
   "source": [
    "# how many unique values for each field/subfield?\n",
    "\n",
    "# counting_items = dict()\n",
    "\n",
    "# def add_to_if_not_yet(k, v):\n",
    "#     v = v.strip()\n",
    "#     if v == \"None\" or not v or v == None:\n",
    "#         return\n",
    "#     if k in counting_items:\n",
    "#         counting_items[k].add(v)\n",
    "#     else:\n",
    "#         counting_items[k] = set()\n",
    "#         counting_items[k].add(v)\n",
    "\n",
    "# for record_as_marc in to_do_records:\n",
    "#     record = record_as_marc.as_dict()\n",
    "#     if not record['fields']:\n",
    "#         break\n",
    "#     for dictionary in record['fields']:\n",
    "#         for k, v in dictionary.items():\n",
    "#             if isinstance(v, str) and v:\n",
    "#                 add_to_if_not_yet(k, v)\n",
    "#             if isinstance(v, dict) and v:\n",
    "#                 ind1 = v['ind1']\n",
    "#                 fullpath = '{}/ind1'.format(k)\n",
    "#                 add_to_if_not_yet(fullpath, ind1)\n",
    "#                 ind2 = v['ind2']\n",
    "#                 fullpath = '{}/ind2'.format(k)\n",
    "#                 add_to_if_not_yet(fullpath, ind2)\n",
    "#                 subfields = v['subfields']\n",
    "#                 for subdictionary in subfields:\n",
    "#                     for x, y in subdictionary.items():\n",
    "#                         fullpath = '{}/subfields/{}'.format(k, x)\n",
    "#                         add_to_if_not_yet(fullpath, y)\n",
    "                        \n",
    "# for k, v in counting_items.items():\n",
    "#     print(k, len(v))"
   ]
  },
  {
   "cell_type": "code",
   "execution_count": null,
   "metadata": {
    "collapsed": false,
    "deletable": true,
    "editable": true
   },
   "outputs": [],
   "source": [
    "# how many unique values for each field/subfield?\n",
    "\n",
    "# keys_lengths = dict()\n",
    "# all_unique_keys = dict()\n",
    "\n",
    "# def add_to_if_not_yet(dictionary, k, v):\n",
    "#     if k in dictionary:\n",
    "#         dictionary[k].add(v)\n",
    "#     else:\n",
    "#         dictionary[k] = set()\n",
    "#         dictionary[k].add(v)\n",
    "\n",
    "# for record_as_marc in to_do_records:\n",
    "#     record = record_as_marc.as_dict()\n",
    "#     if not record['fields']:\n",
    "#         break        \n",
    "#     field_keys = {k for field in record['fields'] for k in field.keys()}\n",
    "#     fields_list = [k for field in record['fields'] for k in field.keys()]\n",
    "#     for unique_field in field_keys:\n",
    "#         add_to_if_not_yet(keys_lengths, unique_field, fields_list.count(unique_field))\n",
    "        \n",
    "# for record in to_do_records:\n",
    "#     for field in record.get_fields():\n",
    "#         add_to_if_not_yet(all_unique_keys, field.tag, field.value())\n",
    "\n",
    "# print('this (key) shows up {times} in a record:\\n', sorted(keys_lengths.items()))\n",
    "\n",
    "# print('\\nthis (key) has {unique values} across the repo:')\n",
    "# for k, v in sorted(all_unique_keys.items()):\n",
    "#     print(k, len(v))"
   ]
  },
  {
   "cell_type": "code",
   "execution_count": null,
   "metadata": {
    "collapsed": false,
    "deletable": true,
    "editable": true
   },
   "outputs": [],
   "source": [
    "# all_unique_keys['020']"
   ]
  },
  {
   "cell_type": "code",
   "execution_count": null,
   "metadata": {
    "collapsed": false,
    "deletable": true,
    "editable": true
   },
   "outputs": [],
   "source": [
    "# this is supposed to check for broken utf-8, but i don't trust it's working\n",
    "\n",
    "# longest_field = 0\n",
    "\n",
    "# for record_as_marc in to_do_records:\n",
    "#     for field in record_as_marc.get_fields():\n",
    "#         value = field.value()\n",
    "#         try:\n",
    "#             bytes_value = value.encode()\n",
    "#             ascii_value = bytes_value.decode('ascii', \"strict\")\n",
    "#             if len(ascii_value) > longest_field:\n",
    "#                 longest_field = len(ascii_value)\n",
    "#                 print(record_as_marc)\n",
    "#         except:\n",
    "#             print(value)"
   ]
  },
  {
   "cell_type": "code",
   "execution_count": null,
   "metadata": {
    "collapsed": false,
    "deletable": true,
    "editable": true
   },
   "outputs": [],
   "source": [
    "# print a full record matching a specified uid\n",
    "\n",
    "def find_print_record(uid):\n",
    "    for record in orig_unrestricted_records:\n",
    "        if lookup_uid(record) == uid:\n",
    "            return record.as_dict()\n",
    "        \n",
    "# find_print_record('9951617')"
   ]
  },
  {
   "cell_type": "code",
   "execution_count": null,
   "metadata": {
    "collapsed": false,
    "deletable": true,
    "editable": true
   },
   "outputs": [],
   "source": [
    "# find a record with a certain text in any value\n",
    "\n",
    "# for record in to_do_records:\n",
    "#     for field in record.get_fields():\n",
    "#         if 'Sethumadhava' in field.value():\n",
    "#             print(lookup_uid(record))"
   ]
  },
  {
   "cell_type": "markdown",
   "metadata": {
    "collapsed": true,
    "deletable": true,
    "editable": true
   },
   "source": [
    "## Editing MARC & moving pdfs"
   ]
  },
  {
   "cell_type": "code",
   "execution_count": null,
   "metadata": {
    "collapsed": false,
    "deletable": true,
    "editable": true
   },
   "outputs": [],
   "source": [
    "# from pymarc import MARCWriter\n",
    "\n",
    "# trash_file = '/home/francis/Desktop/trash.marc'\n",
    "\n",
    "# # actual_restricted_records = [i for i in orig_restricted_records if lookup_uid(i) not in all_restricteds]\n",
    "# # actual_restricted_records.extend([i for i in orig_unrestricted_records if lookup_uid(i) in restricted_uids])\n",
    "\n",
    "# print(len(expected_unrestricted_records))\n",
    "\n",
    "\n",
    "# with open(trash_file, 'wb') as f:\n",
    "#     for record in expected_unrestricted_records:\n",
    "#         f.write(record.as_marc())\n",
    "    \n",
    "# with open(trash_file, 'rb') as f:\n",
    "#     reader = MARCReader(f)\n",
    "#     trash_records = list()\n",
    "#     for record in reader:\n",
    "#         trash_records.append(record)\n",
    "#     print(len(trash_records), len(expected_unrestricted_records))\n",
    "\n",
    "# print(expected_unrestricted_records[0].as_dict())"
   ]
  },
  {
   "cell_type": "code",
   "execution_count": null,
   "metadata": {
    "collapsed": false,
    "deletable": true,
    "editable": true
   },
   "outputs": [],
   "source": [
    "# import shutil\n",
    "\n",
    "# for uid in folder_duplicated:\n",
    "#     source = os.path.join(folder_on_U, 'UnrestrictedTheses', '{}.pdf'.format(uid))\n",
    "#     dest = os.path.join(folder_on_U, 'TitlesDuplicatedInETDDatbase', '{}.pdf'.format(uid))\n",
    "#     if os.path.isfile(source):\n",
    "#         print(source, '\\n', dest)\n",
    "#         shutil.move(source, dest)\n",
    "\n",
    "        \n",
    "# for uid in folder_true_restrict:\n",
    "#     source = os.path.join(folder_on_U, 'UnrestrictedTheses', '{}.pdf'.format(uid))\n",
    "#     dest = os.path.join(folder_on_U, 'RestrictedTheses', '{}.pdf'.format(uid))\n",
    "#     if os.path.isfile(source):\n",
    "#         print(source, '\\n', dest)\n",
    "#         shutil.move(source, dest)"
   ]
  },
  {
   "cell_type": "code",
   "execution_count": null,
   "metadata": {
    "collapsed": true
   },
   "outputs": [],
   "source": [
    "set_a = set()\n",
    "for record in marc_unrestricted_records:\n",
    "    set_a.add(match_degrees(record)[-6:-1])"
   ]
  },
  {
   "cell_type": "code",
   "execution_count": null,
   "metadata": {
    "collapsed": false
   },
   "outputs": [],
   "source": [
    "set_a"
   ]
  },
  {
   "cell_type": "code",
   "execution_count": null,
   "metadata": {
    "collapsed": true
   },
   "outputs": [],
   "source": []
  }
 ],
 "metadata": {
  "kernelspec": {
   "display_name": "Python 3",
   "language": "python",
   "name": "python3"
  },
  "language_info": {
   "codemirror_mode": {
    "name": "ipython",
    "version": 3
   },
   "file_extension": ".py",
   "mimetype": "text/x-python",
   "name": "python",
   "nbconvert_exporter": "python",
   "pygments_lexer": "ipython3",
   "version": "3.5.2"
  }
 },
 "nbformat": 4,
 "nbformat_minor": 2
}
