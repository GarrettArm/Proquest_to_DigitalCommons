{
 "cells": [
  {
   "cell_type": "code",
   "execution_count": 14,
   "metadata": {
    "collapsed": false,
    "deletable": true,
    "editable": true
   },
   "outputs": [],
   "source": [
    "#! /usr/bin/env python3\n",
    "\n",
    "from pymarc import MARCReader\n",
    "import os\n",
    "import csv"
   ]
  },
  {
   "cell_type": "code",
   "execution_count": 15,
   "metadata": {
    "collapsed": false,
    "deletable": true,
    "editable": true
   },
   "outputs": [],
   "source": [
    "with open('source_data/MARCDATA.MRC', 'rb') as f:\n",
    "    reader = MARCReader(f)\n",
    "    all_records = list()\n",
    "    for record in reader:\n",
    "        all_records.append(record)"
   ]
  },
  {
   "cell_type": "code",
   "execution_count": 37,
   "metadata": {
    "collapsed": false,
    "deletable": true,
    "editable": true,
    "scrolled": false
   },
   "outputs": [
    {
     "data": {
      "text/plain": [
       "{'fields': [{'001': 'AAI3167161'},\n",
       "  {'005': '20140908111943.5'},\n",
       "  {'008': '140908s2005    ||||||||||||||||| ||eng d'},\n",
       "  {'020': {'ind1': ' ', 'ind2': ' ', 'subfields': [{'a': '9780542025891'}]}},\n",
       "  {'035': {'ind1': ' ',\n",
       "    'ind2': ' ',\n",
       "    'subfields': [{'a': '(MiAaPQ)AAI3167161'}]}},\n",
       "  {'040': {'ind1': ' ',\n",
       "    'ind2': ' ',\n",
       "    'subfields': [{'a': 'MiAaPQ'}, {'c': 'MiAaPQ'}]}},\n",
       "  {'100': {'ind1': '1', 'ind2': ' ', 'subfields': [{'a': 'Song, In-hyouk.'}]}},\n",
       "  {'245': {'ind1': '1',\n",
       "    'ind2': '0',\n",
       "    'subfields': [{'a': 'Laterally movable gate field effect transistor (LMGFET) for microsensor and microactuator applications.'}]}},\n",
       "  {'300': {'ind1': ' ', 'ind2': ' ', 'subfields': [{'a': '171 p.'}]}},\n",
       "  {'500': {'ind1': ' ',\n",
       "    'ind2': ' ',\n",
       "    'subfields': [{'a': 'Source: Dissertation Abstracts International, Volume: 66-03, Section: B, page: 1638.'}]}},\n",
       "  {'500': {'ind1': ' ',\n",
       "    'ind2': ' ',\n",
       "    'subfields': [{'a': 'Director: Pratul K. Ajmera.'}]}},\n",
       "  {'502': {'ind1': ' ',\n",
       "    'ind2': ' ',\n",
       "    'subfields': [{'a': 'Thesis (Ph.D.)--Louisiana State University and Agricultural & Mechanical College, 2005.'}]}},\n",
       "  {'520': {'ind1': ' ',\n",
       "    'ind2': ' ',\n",
       "    'subfields': [{'a': 'Laterally Movable Gate Field Effect Transistor (LMGFET) invented at LSU as a microactuator is the subject of study in this research. The gate moving in lateral direction in a LMGFET changes channel width but keeps the channel length and the gap between the metal gate and the gate oxide constant. LMGFET offers linear change in drain current with gate motion and a large displacement range. This research is the first demonstration of LMGFET. In this dissertation, a post-IC LIGA-like process for LMGFET microstructure fabrication has been developed that is compatible with monolithic integration with CMOS circuitry.'}]}},\n",
       "  {'520': {'ind1': ' ',\n",
       "    'ind2': ' ',\n",
       "    'subfields': [{'a': 'A two-mask post-IC process has been developed in this research for LMGFET fabrication. This novel process utilizes S1813 photoresist as a sacrificial layer in conjunction with a thicker resist like AZ P4620 or SU-8 as an electroplating mold. New curing temperatures for the sacrificial layer photoresist have been determined for this purpose. LMGFET microstructures have been successfully integrated with CMOS circuitry on the same chip to form integrated microsystem.'}]}},\n",
       "  {'520': {'ind1': ' ',\n",
       "    'ind2': ' ',\n",
       "    'subfields': [{'a': 'LMGFET microstructure driven by a comb-drive with serpentine retaining spring shows sensitivities Sel of 2 and 1.43 nA/V respectively at 5 and 25 Hz. These numbers reflect that LMGFET is capable of measuring nm range displacement. Electrical characteristics of a depletion type LMGFET structure are measured and show an average sensitivity  Sl of -4 muA/mum at drain to source voltage VDS of 10 V with the gate shorted to source. Several applications of microsystems utilizing LMGFET microstructures as a position sensor or an accelerometer, a spectrum analyzer or an electro-mechanical filter and a mechanical/optical switch are described.'}]}},\n",
       "  {'590': {'ind1': ' ',\n",
       "    'ind2': ' ',\n",
       "    'subfields': [{'a': 'School code: 0107.'}]}},\n",
       "  {'650': {'ind1': ' ',\n",
       "    'ind2': '4',\n",
       "    'subfields': [{'a': 'Engineering, Electronics and Electrical.'}]}},\n",
       "  {'690': {'ind1': ' ', 'ind2': ' ', 'subfields': [{'a': '0544'}]}},\n",
       "  {'710': {'ind1': '2',\n",
       "    'ind2': '0',\n",
       "    'subfields': [{'a': 'Louisiana State University and Agricultural & Mechanical College.'}]}},\n",
       "  {'773': {'ind1': '0',\n",
       "    'ind2': ' ',\n",
       "    'subfields': [{'t': 'Dissertation Abstracts International'},\n",
       "     {'g': '66-03B.'}]}},\n",
       "  {'790': {'ind1': ' ', 'ind2': ' ', 'subfields': [{'a': '0107'}]}},\n",
       "  {'791': {'ind1': ' ', 'ind2': ' ', 'subfields': [{'a': 'Ph.D.'}]}},\n",
       "  {'792': {'ind1': ' ', 'ind2': ' ', 'subfields': [{'a': '2005'}]}},\n",
       "  {'793': {'ind1': ' ', 'ind2': ' ', 'subfields': [{'a': 'English'}]}},\n",
       "  {'856': {'ind1': ' ',\n",
       "    'ind2': ' ',\n",
       "    'subfields': [{'u': 'http://gateway.proquest.com/openurl?url_ver=Z39.88-2004&rft_val_fmt=info:ofi/fmt:kev:mtx:dissertation&res_dat=xri:pqm&rft_dat=xri:pqdiss:3167161'}]}}],\n",
       " 'leader': '02933nam a2200325   4500'}"
      ]
     },
     "execution_count": 37,
     "metadata": {},
     "output_type": "execute_result"
    }
   ],
   "source": [
    "# an example of one record\n",
    "all_records[1000].as_dict()"
   ]
  },
  {
   "cell_type": "code",
   "execution_count": 17,
   "metadata": {
    "collapsed": false,
    "deletable": true,
    "editable": true
   },
   "outputs": [],
   "source": [
    "def lookup_uid(record):\n",
    "    return record.get_fields('001')[0].value().replace('AAI','')"
   ]
  },
  {
   "cell_type": "code",
   "execution_count": 18,
   "metadata": {
    "collapsed": false,
    "deletable": true,
    "editable": true
   },
   "outputs": [],
   "source": [
    "# lookup_uid(all_records[0])"
   ]
  },
  {
   "cell_type": "code",
   "execution_count": 19,
   "metadata": {
    "collapsed": false,
    "deletable": true,
    "editable": true
   },
   "outputs": [],
   "source": [
    "# make a list of restricted items\n",
    "# from the previously-made ranges\n",
    "# they match 1247 records from the marc file\n",
    "\n",
    "restricted_range_a = set(range(3048322, 3335145))\n",
    "restricted_range_b = {3021429, 3030348, 3451495}\n",
    "restricted_range_c = {3049191, 3049223, 3051440, 3053695, 3053696}\n",
    "restricted_range_d = set(range(3049188, 3329096))\n",
    "all_restricteds = set().union(restricted_range_a, \n",
    "                              restricted_range_b,\n",
    "                              restricted_range_c,\n",
    "                              restricted_range_d)\n",
    "all_restricteds.remove(3136164)\n",
    "\n",
    "restricted_uids = []\n",
    "\n",
    "for record in all_records:\n",
    "    uid = lookup_uid(record)\n",
    "    if int(uid) in all_restricteds:\n",
    "        restricted_uids.append(uid)\n",
    "        continue\n",
    "        \n",
    "# print(len(restricted_uids))"
   ]
  },
  {
   "cell_type": "code",
   "execution_count": 7,
   "metadata": {
    "collapsed": false,
    "deletable": true,
    "editable": true
   },
   "outputs": [],
   "source": [
    "# make a list of duplicated uids\n",
    "\n",
    "with open('source_data/DuplicatedInDigitalCommons.txt', 'r', encoding='utf-8') as f:\n",
    "    duplicate_uids = []\n",
    "    for line in f.readlines():\n",
    "        duplicate_uids.append(line.replace('.pdf', '').strip())"
   ]
  },
  {
   "cell_type": "code",
   "execution_count": 8,
   "metadata": {
    "collapsed": false,
    "deletable": true,
    "editable": true
   },
   "outputs": [],
   "source": [
    "# make a list of records not in duplicated or in restricted\n",
    "\n",
    "to_do_records = [i for i in all_records if lookup_uid(i) not in restricted_uids\n",
    "                                        and lookup_uid(i) not in duplicate_uids]\n"
   ]
  },
  {
   "cell_type": "markdown",
   "metadata": {
    "deletable": true,
    "editable": true
   },
   "source": [
    "## Testing things"
   ]
  },
  {
   "cell_type": "code",
   "execution_count": 9,
   "metadata": {
    "collapsed": false,
    "deletable": true,
    "editable": true
   },
   "outputs": [],
   "source": [
    "# test of all uids in marc file match a pdf on U drive\n",
    "# short answer: they all do\n",
    "\n",
    "# pdf_not_on_U = list()\n",
    "\n",
    "# for record in all_records:\n",
    "#     uid = lookup_uid(record)\n",
    "#     if os.path.isfile('/media/francis/U/ProquestDissertations/UnrestrictedTheses/{}.pdf'.format(uid)):\n",
    "#         continue\n",
    "#     pdf_not_on_U.append(uid)\n",
    "\n",
    "# print(pdf_not_on_U)\n"
   ]
  },
  {
   "cell_type": "code",
   "execution_count": 10,
   "metadata": {
    "collapsed": false,
    "deletable": true,
    "editable": true
   },
   "outputs": [],
   "source": [
    "# show all unique values for field 650\n",
    "\n",
    "# all_650a = set()\n",
    "# for record in to_do_records:\n",
    "#     for i in record.get_fields('650'):\n",
    "#         all_650a.add(i.value())\n",
    "#     all_650a.add(record.get_fields('650')[0].value())\n",
    "# print(all_650a)"
   ]
  },
  {
   "cell_type": "markdown",
   "metadata": {
    "deletable": true,
    "editable": true
   },
   "source": [
    "## Making the crosswalk"
   ]
  },
  {
   "cell_type": "code",
   "execution_count": null,
   "metadata": {
    "collapsed": false,
    "deletable": true,
    "editable": true
   },
   "outputs": [],
   "source": []
  },
  {
   "cell_type": "markdown",
   "metadata": {
    "deletable": true,
    "editable": true
   },
   "source": [
    "## Making the csv"
   ]
  },
  {
   "cell_type": "code",
   "execution_count": 11,
   "metadata": {
    "collapsed": false,
    "deletable": true,
    "editable": true
   },
   "outputs": [],
   "source": [
    "def csv_writer(data, path):\n",
    "    with open(path, \"w\", newline='', encoding='utf-8') as csv_file:\n",
    "        writer = csv.writer(csv_file, delimiter=',', quotechar='\"', quoting=csv.QUOTE_ALL)\n",
    "        for line in data:\n",
    "            writer.writerow(line)"
   ]
  },
  {
   "cell_type": "code",
   "execution_count": 12,
   "metadata": {
    "collapsed": false,
    "deletable": true,
    "editable": true
   },
   "outputs": [
    {
     "ename": "IndentationError",
     "evalue": "unexpected indent (<ipython-input-12-e4853881ec61>, line 34)",
     "output_type": "error",
     "traceback": [
      "\u001b[0;36m  File \u001b[0;32m\"<ipython-input-12-e4853881ec61>\"\u001b[0;36m, line \u001b[0;32m34\u001b[0m\n\u001b[0;31m    csv_keywords =\u001b[0m\n\u001b[0m    ^\u001b[0m\n\u001b[0;31mIndentationError\u001b[0m\u001b[0;31m:\u001b[0m unexpected indent\n"
     ]
    }
   ],
   "source": [
    "def build_csv(all_data_parsed):\n",
    "    csv_data = []\n",
    "    # first row is all fieldnames, following rows are each uid's info\n",
    "    \n",
    "    csvfieldnames = [\"title\",\n",
    "                     \"fulltext_url\",\n",
    "                     'keywords',\n",
    "                     'abstract',\n",
    "                     \"author1_fname\",\n",
    "                     'author1_mname',\n",
    "                     'author1_lname',\n",
    "                     'author1_suffix',\n",
    "                     'author1_email',\n",
    "                     'author1_institution',\n",
    "                     'advisor1',\n",
    "                     'advisor2',\n",
    "                     'advisor3',\n",
    "                     'disciplines',\n",
    "                     'comments'\n",
    "                     'degree_name',\n",
    "                     'department',\n",
    "                     \"document_type\",\n",
    "                     'publication_date',\n",
    "                     'season',\n",
    "                     'release_date',\n",
    "                     'urn',\n",
    "                    ]\n",
    "    csv_data.append(csvfieldnames)\n",
    "\n",
    "    for record in to_do_uids:\n",
    "        csv_title = record.get_fields('245')\n",
    "        fulltext_url = parse_dropbox_url(urn)\n",
    "#             fulltext_url = gdrive_dict[urn]\n",
    "         csv_keywords =\n",
    "         csv_abstract =\n",
    "         csv_first_name =\n",
    "         csv_middle_name =\n",
    "         csv_last_name =\n",
    "         csv_suffix =\n",
    "         csv_author_email =\n",
    "         csv_institution =\n",
    "         csv_advisor1 =\n",
    "         csv_advisor2 =\n",
    "         csv_advisor3 =\n",
    "         csv_disciplines =\n",
    "         csv_comments =\n",
    "         csv_degree_name =\n",
    "         csv_department =\n",
    "         csv_document_type =\n",
    "         csv_publication_date =\n",
    "         csv_season =\n",
    "         csv_release_date =\n",
    "         csv_urn =\n",
    "\n",
    "\n",
    "\n",
    "        csv_data.append([csv_title,\n",
    "                         fulltext_url,\n",
    "                         csv_keywords,\n",
    "                         csv_abstract,\n",
    "                         csv_first_name,\n",
    "                         csv_middle_name,\n",
    "                         csv_last_name,\n",
    "                         csv_suffix,\n",
    "                         csv_author_email,\n",
    "                         csv_institution,\n",
    "                         csv_advisor1,\n",
    "                         csv_advisor2,\n",
    "                         csv_advisor3,\n",
    "                         csv_disciplines,\n",
    "                         csv_comments,\n",
    "                         csv_degree_name,\n",
    "                         csv_department,\n",
    "                         csv_document_type,\n",
    "                         csv_publication_date,\n",
    "                         csv_season,\n",
    "                         csv_release_date,\n",
    "                         csv_urn,\n",
    "                         ])\n",
    "#     print(csv_data)\n",
    "    csv_writer(csv_data, 'output/scrap_Proquest.csv')"
   ]
  },
  {
   "cell_type": "code",
   "execution_count": 34,
   "metadata": {
    "collapsed": false,
    "deletable": true,
    "editable": true
   },
   "outputs": [
    {
     "name": "stdout",
     "output_type": "stream",
     "text": [
      "650/subfields/a 268\n",
      "520/subfields/a 13058\n",
      "773/ind1 1\n",
      "040/subfields/c 1\n",
      "650/ind2 1\n",
      "791/subfields/a 13\n",
      "005 343\n",
      "690/subfields/a 268\n",
      "245/subfields/a 7308\n",
      "245/ind2 4\n",
      "700/subfields/e 1\n",
      "710/ind2 1\n",
      "040/subfields/a 1\n",
      "700/ind1 1\n",
      "001 7308\n",
      "300/subfields/a 545\n",
      "502/subfields/a 115\n",
      "700/ind2 1\n",
      "008 64\n",
      "245/ind1 1\n",
      "020/subfields/a 1451\n",
      "710/ind1 1\n",
      "700/subfields/a 1\n",
      "590/subfields/a 1\n",
      "100/subfields/a 7307\n",
      "792/subfields/a 50\n",
      "790/subfields/a 1\n",
      "035/subfields/a 7308\n",
      "856/subfields/u 7308\n",
      "793/subfields/a 4\n",
      "710/subfields/a 1\n",
      "773/subfields/t 2\n",
      "773/subfields/g 493\n",
      "100/ind1 1\n",
      "500/subfields/a 8549\n"
     ]
    }
   ],
   "source": [
    "# how many unique values for each field/subfield?\n",
    "\n",
    "# counting_items = dict()\n",
    "\n",
    "# def add_to_if_not_yet(k, v):\n",
    "#     v = v.strip()\n",
    "#     if v == \"None\" or not v or v == None:\n",
    "#         return\n",
    "#     if k in counting_items:\n",
    "#         counting_items[k].add(v)\n",
    "#     else:\n",
    "#         counting_items[k] = set()\n",
    "#         counting_items[k].add(v)\n",
    "\n",
    "# for record_as_marc in to_do_records:\n",
    "#     record = record_as_marc.as_dict()\n",
    "#     if not record['fields']:\n",
    "#         break\n",
    "#     for dictionary in record['fields']:\n",
    "#         for k, v in dictionary.items():\n",
    "#             if isinstance(v, str) and v:\n",
    "#                 add_to_if_not_yet(k, v)\n",
    "#             if isinstance(v, dict) and v:\n",
    "#                 ind1 = v['ind1']\n",
    "#                 fullpath = '{}/ind1'.format(k)\n",
    "#                 add_to_if_not_yet(fullpath, ind1)\n",
    "#                 ind2 = v['ind2']\n",
    "#                 fullpath = '{}/ind2'.format(k)\n",
    "#                 add_to_if_not_yet(fullpath, ind2)\n",
    "#                 subfields = v['subfields']\n",
    "#                 for subdictionary in subfields:\n",
    "#                     for x, y in subdictionary.items():\n",
    "#                         fullpath = '{}/subfields/{}'.format(k, x)\n",
    "#                         add_to_if_not_yet(fullpath, y)\n",
    "                        \n",
    "# for k, v in counting_items.items():\n",
    "#     print(k, len(v))"
   ]
  },
  {
   "cell_type": "code",
   "execution_count": 53,
   "metadata": {
    "collapsed": false,
    "deletable": true,
    "editable": true
   },
   "outputs": [],
   "source": [
    "# how many unique values for each field/subfield?\n",
    "\n",
    "# keys_lengths = dict()\n",
    "\n",
    "# def add_to_if_not_yet(k, v):\n",
    "#     if k in keys_lengths:\n",
    "#         keys_lengths[k].add(v)\n",
    "#     else:\n",
    "#         keys_lengths[k] = set()\n",
    "#         keys_lengths[k].add(v)\n",
    "\n",
    "# for record_as_marc in to_do_records:\n",
    "#     record = record_as_marc.as_dict()\n",
    "#     if not record['fields']:\n",
    "#         break        \n",
    "#     field_keys = {k for field in record['fields'] for k in field.keys()}\n",
    "#     fields_list = [k for field in record['fields'] for k in field.keys()]\n",
    "#     for unique_field in field_keys:\n",
    "#         add_to_if_not_yet(unique_field, fields_list.count(unique_field))\n",
    "\n",
    "# print(keys_lengths)"
   ]
  },
  {
   "cell_type": "code",
   "execution_count": 25,
   "metadata": {
    "collapsed": false,
    "deletable": true,
    "editable": true
   },
   "outputs": [],
   "source": []
  },
  {
   "cell_type": "code",
   "execution_count": 45,
   "metadata": {
    "collapsed": false
   },
   "outputs": [
    {
     "data": {
      "text/plain": [
       "7308"
      ]
     },
     "execution_count": 45,
     "metadata": {},
     "output_type": "execute_result"
    }
   ],
   "source": [
    "len(to_do_records)"
   ]
  },
  {
   "cell_type": "code",
   "execution_count": null,
   "metadata": {
    "collapsed": false
   },
   "outputs": [],
   "source": []
  },
  {
   "cell_type": "code",
   "execution_count": null,
   "metadata": {
    "collapsed": true
   },
   "outputs": [],
   "source": []
  }
 ],
 "metadata": {
  "kernelspec": {
   "display_name": "Python 3",
   "language": "python",
   "name": "python3"
  },
  "language_info": {
   "codemirror_mode": {
    "name": "ipython",
    "version": 3
   },
   "file_extension": ".py",
   "mimetype": "text/x-python",
   "name": "python",
   "nbconvert_exporter": "python",
   "pygments_lexer": "ipython3",
   "version": "3.5.2"
  }
 },
 "nbformat": 4,
 "nbformat_minor": 2
}
